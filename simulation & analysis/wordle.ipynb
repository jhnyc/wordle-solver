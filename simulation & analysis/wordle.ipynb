{
 "cells": [
  {
   "cell_type": "code",
   "execution_count": 1,
   "id": "f5e6798c-e328-4945-ab66-c0b77d2f2b5d",
   "metadata": {},
   "outputs": [],
   "source": [
    "from english_words import english_words_set\n",
    "import random\n",
    "import matplotlib.pyplot as plt\n",
    "import seaborn as sns\n",
    "import numpy as np\n",
    "from scipy import stats\n",
    "import multiprocess as mp\n",
    "import pandas as pd\n",
    "import time\n",
    "import pickle"
   ]
  },
  {
   "cell_type": "code",
   "execution_count": 2,
   "id": "07bf78e5-af28-49b5-976c-4b93abbce775",
   "metadata": {},
   "outputs": [],
   "source": [
    "# Set default plot style\n",
    "plt.style.use('fivethirtyeight')\n",
    "plt.rcParams['lines.linewidth'] = 3"
   ]
  },
  {
   "cell_type": "markdown",
   "id": "fe07a215-2fbc-4381-b7a2-8d729b618c45",
   "metadata": {},
   "source": [
    "## What intial guess is better for your odds?\n",
    "A friend of mine who is much more experienced than me in this game told me starting with the word 'adieu' which contains the most vowels in any five letter words would maximize your chances. Without much knowledge about the game, that sounded fairly reasonable. However, with an inquisive mind, I decided to find out whether this hypothesis holds."
   ]
  },
  {
   "cell_type": "markdown",
   "id": "b164caea",
   "metadata": {},
   "source": [
    "First we will define some functions in order to run the simulations."
   ]
  },
  {
   "cell_type": "code",
   "execution_count": 3,
   "id": "365d9abf",
   "metadata": {},
   "outputs": [],
   "source": [
    "# Function to clean the words set\n",
    "def eligible_words(english_words_set):\n",
    "    five_char_words = [word for word in english_words_set if len(word)==5 and not \"'\" in word]\n",
    "    five_char_words_no_names = [word for word in five_char_words if word[0].isupper()==False]\n",
    "    return five_char_words_no_names\n",
    "\n",
    "# Return the result of a submission in terms of the correct, semicorrect & incorrect words\n",
    "def submit(guess, answer, semicorrect=None, incorrect=None):\n",
    "    \"\"\"Check the guess against the answer\"\"\"\n",
    "    correct = {}\n",
    "    incorrect = [] if incorrect is None else incorrect\n",
    "    semicorrect = {} if semicorrect is None else semicorrect\n",
    "    counter = {char: 0 for char in guess}\n",
    "    for i in range(5):\n",
    "        if guess[i] == answer[i]:\n",
    "            correct[i] = guess[i]\n",
    "            counter[guess[i]] += 1\n",
    "        elif guess[i] in answer and counter[guess[i]] < answer.count(guess[i]):\n",
    "            semicorrect[i] = guess[i]\n",
    "            counter[guess[i]] += 1\n",
    "        else:\n",
    "            incorrect.append(guess[i])\n",
    "    return correct, semicorrect, list(set(incorrect))\n",
    "\n",
    "\n",
    "# Filter words given the results of a guess\n",
    "def find_words(words, correct, semicorrect, incorrect):\n",
    "    incorrect = [char for char in incorrect if char not in list(correct.values()) + list(semicorrect.values())]\n",
    "    # filter out all words containing incorrect characters\n",
    "    words = [word for word in words if any(char in word for char in incorrect) == False]\n",
    "    # filter words compatible with the correct characters\n",
    "    words = [word for word in words if all(correct[i] == word[i] for i in correct)]\n",
    "    # filter words containing the semicorrect characters\n",
    "    words = [word for word in words if all(semicorrect[i] in word for i in semicorrect)]\n",
    "    # fitler out words with characters in the positions of the semicorrect characters\n",
    "    words = [word for word in words if all(semicorrect[i] != word[i] for i in semicorrect)]\n",
    "    return words\n",
    "\n",
    "\n",
    "# Return the number of attempts to solve a game\n",
    "def crack(answer, words, init_guess=None, return_count=False, print_guess=False):\n",
    "    correct = {}\n",
    "    semicorrect = {}\n",
    "    incorrect = []\n",
    "    guess = random.choice(words) if not init_guess else init_guess\n",
    "    guess_count = 0\n",
    "    while len(correct) != 5:\n",
    "        if print_guess:\n",
    "            print(guess)\n",
    "        correct, semicorrect, incorrect = submit(guess, answer, semicorrect, incorrect)\n",
    "        words = find_words(words, correct, semicorrect, incorrect)\n",
    "        guess = random.choice(words) \n",
    "        guess_count += 1\n",
    "    if return_count:\n",
    "        return guess_count\n",
    "    return f'The answer is: {\"\".join(correct.values())}'"
   ]
  },
  {
   "cell_type": "markdown",
   "id": "b7dd75cc",
   "metadata": {},
   "source": [
    "Below we will select 100 random words as answers for our experiment and for each word we will simulate the game 100 times."
   ]
  },
  {
   "cell_type": "code",
   "execution_count": 4,
   "id": "c9770ea9-a1d8-40d2-9bbe-4018ac7d3f00",
   "metadata": {},
   "outputs": [],
   "source": [
    "word_list = eligible_words(english_words_set)\n",
    "n_rand_words = 100\n",
    "random_words = [random.choice(word_list) for i in range(n_rand_words)]"
   ]
  },
  {
   "cell_type": "markdown",
   "id": "82844b94-5720-4e99-bf40-eab6deac6d9f",
   "metadata": {},
   "source": [
    "### Start the guess with the word with the most vowels: Adieu"
   ]
  },
  {
   "cell_type": "code",
   "execution_count": 5,
   "id": "1e0c4bf0-69fc-4e36-be0c-5efbbd72fe26",
   "metadata": {},
   "outputs": [],
   "source": [
    "n = 100\n",
    "adieus = []\n",
    "for word in random_words:\n",
    "    for i in range(n):\n",
    "        count = crack(word, word_list, init_guess='adieu', return_count=True)\n",
    "        adieus.append(count)"
   ]
  },
  {
   "cell_type": "code",
   "execution_count": 6,
   "id": "d9d91722",
   "metadata": {},
   "outputs": [
    {
     "data": {
      "text/plain": [
       "<AxesSubplot:ylabel='Count'>"
      ]
     },
     "execution_count": 6,
     "metadata": {},
     "output_type": "execute_result"
    },
    {
     "data": {
      "image/png": "[encoded data removed]",
      "text/plain": [
       "<Figure size 432x288 with 1 Axes>"
      ]
     },
     "metadata": {},
     "output_type": "display_data"
    }
   ],
   "source": [
    "# plot the distribution\n",
    "sns.histplot(adieus)"
   ]
  },
  {
   "cell_type": "markdown",
   "id": "22e88e2a-257c-4a7e-90ea-459c67073869",
   "metadata": {},
   "source": [
    "### Start with random guesses"
   ]
  },
  {
   "cell_type": "code",
   "execution_count": 7,
   "id": "0b1f2177-085f-4a6f-b57c-283a7e7fc41c",
   "metadata": {},
   "outputs": [],
   "source": [
    "rand_guess_count = []\n",
    "for word in random_words:\n",
    "    for i in range(n):\n",
    "        count = crack(word, word_list, init_guess=None, return_count=True)\n",
    "        rand_guess_count.append(count)"
   ]
  },
  {
   "cell_type": "code",
   "execution_count": 8,
   "id": "275c6e06",
   "metadata": {},
   "outputs": [
    {
     "data": {
      "text/plain": [
       "<AxesSubplot:ylabel='Count'>"
      ]
     },
     "execution_count": 8,
     "metadata": {},
     "output_type": "execute_result"
    },
    {
     "data": {
      "image/png": "[encoded data removed]",
      "text/plain": [
       "<Figure size 432x288 with 1 Axes>"
      ]
     },
     "metadata": {},
     "output_type": "display_data"
    }
   ],
   "source": [
    "# plot the distribution\n",
    "sns.histplot(rand_guess_count)"
   ]
  },
  {
   "cell_type": "markdown",
   "id": "0cb2aeb2-876d-4bb6-8b43-0570c6f0975c",
   "metadata": {},
   "source": [
    "### Comparing the distributions\n",
    "The two distributions above look very similar, in order to determine the difference between the distributions statistical test is needed with the following hypotheses:\n",
    "\n",
    "H0 - null hypothesis: the two distributions are the same\n",
    "\n",
    "H1 - alternate hypothesis: the distributions are different"
   ]
  },
  {
   "cell_type": "code",
   "execution_count": 9,
   "id": "7cab2a92-75e9-42de-a384-d3a9a1ac618a",
   "metadata": {},
   "outputs": [
    {
     "data": {
      "text/plain": [
       "KstestResult(statistic=0.0189, pvalue=0.05619041963691477)"
      ]
     },
     "execution_count": 9,
     "metadata": {},
     "output_type": "execute_result"
    }
   ],
   "source": [
    "# Kolmogorov–Smirnov test\n",
    "stats.ks_2samp(adieus, rand_guess_count)"
   ]
  },
  {
   "cell_type": "code",
   "execution_count": 10,
   "id": "161a58d6-16f2-48ab-88f5-6c131c4b3d0d",
   "metadata": {},
   "outputs": [
    {
     "data": {
      "text/plain": [
       "MannwhitneyuResult(statistic=48914915.0, pvalue=0.005331077080487022)"
      ]
     },
     "execution_count": 10,
     "metadata": {},
     "output_type": "execute_result"
    }
   ],
   "source": [
    "# Mann-Whitney U test\n",
    "stats.mannwhitneyu(adieus, rand_guess_count)"
   ]
  },
  {
   "cell_type": "code",
   "execution_count": 11,
   "id": "584e02d8-e7fb-46e7-9333-0488e9f12f40",
   "metadata": {},
   "outputs": [
    {
     "data": {
      "text/plain": [
       "Power_divergenceResult(statistic=39.85089747371735, pvalue=3.793757193226987e-05)"
      ]
     },
     "execution_count": 11,
     "metadata": {},
     "output_type": "execute_result"
    }
   ],
   "source": [
    "# Chi-Square test\n",
    "adieu_freq = [adieus.count(i) for i in set(rand_guess_count)]\n",
    "rand_freq = [rand_guess_count.count(i) for i in set(rand_guess_count)]\n",
    "stats.chisquare(adieu_freq, f_exp=rand_freq)"
   ]
  },
  {
   "cell_type": "code",
   "execution_count": 12,
   "id": "91e45f2d-d839-4970-aae0-c4b00b0aa1fd",
   "metadata": {},
   "outputs": [
    {
     "data": {
      "text/plain": [
       "(-2.150799688532748, 0.03149201370679507)"
      ]
     },
     "execution_count": 12,
     "metadata": {},
     "output_type": "execute_result"
    }
   ],
   "source": [
    "# Z test when the sample size is large, T test otherwise\n",
    "from statsmodels.stats import weightstats as stests\n",
    "stests.ztest(adieus, rand_guess_count, value=0)"
   ]
  },
  {
   "cell_type": "markdown",
   "id": "2c3cec18",
   "metadata": {},
   "source": [
    "After running the tests, both tests return a very low p-value, indicating strong evidence against the null hypothesis. With a critical value of 0.05, here we will reject the null hypothesis and conclude there's statistical significance in terms of the difference between the distributions."
   ]
  },
  {
   "cell_type": "markdown",
   "id": "5a181348-2d27-436f-b673-e63350edfd99",
   "metadata": {},
   "source": [
    "### Which is the best starter word?\n",
    "After the above comparison, we can see that some words are indeed better than others. In order to determine which word is the best starter word for the game, we will simulate the game a ton of times. Details as follows:\n",
    "1. We will use the Wordle solutions of the first 200 days;\n",
    "2. For each solution, we will run the game starting with every available 5-letter word for 10 times to determine the average no. of attempts to get the solution for that particular starter word"
   ]
  },
  {
   "cell_type": "markdown",
   "id": "15722315-7e3a-4dc1-bb98-815e679fa212",
   "metadata": {},
   "source": [
    "Since running the simulation ~5M times would be too slow, we will employ parallelization for the simulation. I have an 8-core laptop and it still took me a good hour, imagine without parallelization."
   ]
  },
  {
   "cell_type": "code",
   "execution_count": 15,
   "id": "eb7e107e-6e9f-411e-9b3b-0ecd879347f2",
   "metadata": {},
   "outputs": [],
   "source": [
    "# Load 200 Wordle solutions (Day #0-#199)\n",
    "with open('wordle_answers_0-200.txt', 'r') as f:\n",
    "    answers = f.readlines()\n",
    "\n",
    "answers = [ans.split()[-1].lower() for ans in answers]\n",
    "\n",
    "\n",
    "# In case there are solutions that are not in the word list, we need to add those to our vocabulary\n",
    "word_list = eligible_words(english_words_set)\n",
    "word_list = list(set(word_list + answers))\n",
    "\n",
    "\n",
    "# Function for simulation\n",
    "def simulate_wordle(starter_word, n_attempt=10):\n",
    "    result = {}\n",
    "    attempt_counts = []\n",
    "    for word in answers:\n",
    "        for i in range(n_attempt):\n",
    "            count = crack(word, word_list, init_guess=starter_word, return_count=True)\n",
    "            attempt_counts.append(count)\n",
    "    result[starter_word] = attempt_counts\n",
    "    return result\n",
    "\n",
    "\n",
    "# Multiprocessing\n",
    "start = time.time()\n",
    "pool = mp.Pool(mp.cpu_count())\n",
    "results = pool.map(simulate_wordle, word_list)\n",
    "pool.close()\n",
    "\n",
    "# Since the entire simulation would take hours to complete\n",
    "# to avoid wasting time on rerunning the simulation, we will save the result\n",
    "\n",
    "results_ = {}\n",
    "for d in results:\n",
    "    results_.update(d)\n",
    "pickle.dump(results_, open('simulation_result.pkl', 'wb'))"
   ]
  },
  {
   "cell_type": "code",
   "execution_count": 13,
   "id": "46aab225-0e59-4296-929a-6d34fdf0ff6a",
   "metadata": {},
   "outputs": [],
   "source": [
    "# Load simulation result\n",
    "sim_result = pickle.load(open('simulation_result.pkl','rb'))"
   ]
  },
  {
   "cell_type": "markdown",
   "id": "c980fa71-3578-45d1-a060-2d432fd6c016",
   "metadata": {},
   "source": [
    "For each starter word, calculate:\n",
    "1. Average no. of attempts to win\n",
    "2. Variance/ standard deviation\n",
    "3. Proportion of games that finish within 4 attempts\n",
    "4. Proportion of games that finish within 6 attempts\n",
    "5. Proportion of games that cannot finish within 6 attempts"
   ]
  },
  {
   "cell_type": "code",
   "execution_count": 14,
   "id": "bdb7a5eb-62f0-4aa1-adf2-66d6fc4b0a4c",
   "metadata": {
    "tags": []
   },
   "outputs": [],
   "source": [
    "# Summarize the results of each starter word\n",
    "summary = {}\n",
    "for key in sim_result:\n",
    "    tmp_dict = {}\n",
    "    tmp_array = np.array(sim_result[key])\n",
    "    tmp_dict['avg_attempt'] = np.mean(tmp_array)\n",
    "    tmp_dict['std'] = np.std(tmp_array)\n",
    "    tmp_dict['within_four'] = len(np.where(tmp_array <= 4)[0])/len(tmp_array)\n",
    "    tmp_dict['within_six'] = len(np.where(tmp_array <= 6)[0])/len(tmp_array)\n",
    "    tmp_dict['beyond_six'] = len(np.where(tmp_array > 6)[0])/len(tmp_array)\n",
    "    summary[key] = tmp_dict\n",
    "    \n",
    "# Construct a dataframe form the summary description\n",
    "summary_df = pd.DataFrame({\n",
    "    'starter word': list(summary.keys()),\n",
    "    'avg attempt': [summary[key]['avg_attempt'] for key in summary],\n",
    "    'std': [summary[key]['std'] for key in summary],\n",
    "    'within four': [summary[key]['within_four'] for key in summary],\n",
    "    'within six': [summary[key]['within_six'] for key in summary],\n",
    "    'beyond six': [summary[key]['beyond_six'] for key in summary]\n",
    "})\n",
    "# Sort by avg. attempts\n",
    "summary_df = summary_df.sort_values('avg attempt').reset_index(drop=True)"
   ]
  },
  {
   "cell_type": "code",
   "execution_count": 15,
   "id": "cee0ad8c-f29c-40eb-a57b-3de0895cc383",
   "metadata": {},
   "outputs": [
    {
     "data": {
      "text/plain": [
       "4.214473631642029"
      ]
     },
     "execution_count": 15,
     "metadata": {},
     "output_type": "execute_result"
    }
   ],
   "source": [
    "# Average attempts to win\n",
    "summary_df['avg attempt'].mean()"
   ]
  },
  {
   "cell_type": "code",
   "execution_count": 16,
   "id": "65bb5276-229f-4b4a-877b-d4a34d697250",
   "metadata": {
    "tags": []
   },
   "outputs": [
    {
     "data": {
      "text/html": [
       "<style type=\"text/css\">\n",
       "#T_944a3_row0_col1 {\n",
       "  background-color: #fff7fb;\n",
       "  color: #000000;\n",
       "}\n",
       "#T_944a3_row1_col1 {\n",
       "  background-color: #fbf4f9;\n",
       "  color: #000000;\n",
       "}\n",
       "#T_944a3_row2_col1 {\n",
       "  background-color: #faf3f9;\n",
       "  color: #000000;\n",
       "}\n",
       "#T_944a3_row3_col1, #T_944a3_row4_col1 {\n",
       "  background-color: #f7f0f7;\n",
       "  color: #000000;\n",
       "}\n",
       "#T_944a3_row5_col1 {\n",
       "  background-color: #046096;\n",
       "  color: #f1f1f1;\n",
       "}\n",
       "#T_944a3_row6_col1 {\n",
       "  background-color: #045f95;\n",
       "  color: #f1f1f1;\n",
       "}\n",
       "#T_944a3_row7_col1 {\n",
       "  background-color: #045280;\n",
       "  color: #f1f1f1;\n",
       "}\n",
       "#T_944a3_row8_col1 {\n",
       "  background-color: #034a74;\n",
       "  color: #f1f1f1;\n",
       "}\n",
       "#T_944a3_row9_col1 {\n",
       "  background-color: #023858;\n",
       "  color: #f1f1f1;\n",
       "}\n",
       "</style>\n",
       "<table id=\"T_944a3_\">\n",
       "  <thead>\n",
       "    <tr>\n",
       "      <th class=\"blank level0\" >&nbsp;</th>\n",
       "      <th class=\"col_heading level0 col0\" >starter word</th>\n",
       "      <th class=\"col_heading level0 col1\" >avg attempt</th>\n",
       "      <th class=\"col_heading level0 col2\" >std</th>\n",
       "      <th class=\"col_heading level0 col3\" >within four</th>\n",
       "      <th class=\"col_heading level0 col4\" >within six</th>\n",
       "      <th class=\"col_heading level0 col5\" >beyond six</th>\n",
       "    </tr>\n",
       "  </thead>\n",
       "  <tbody>\n",
       "    <tr>\n",
       "      <th id=\"T_944a3_level0_row0\" class=\"row_heading level0 row0\" >0</th>\n",
       "      <td id=\"T_944a3_row0_col0\" class=\"data row0 col0\" >trade</td>\n",
       "      <td id=\"T_944a3_row0_col1\" class=\"data row0 col1\" >3.858500</td>\n",
       "      <td id=\"T_944a3_row0_col2\" class=\"data row0 col2\" >1.084195</td>\n",
       "      <td id=\"T_944a3_row0_col3\" class=\"data row0 col3\" >0.757000</td>\n",
       "      <td id=\"T_944a3_row0_col4\" class=\"data row0 col4\" >0.986500</td>\n",
       "      <td id=\"T_944a3_row0_col5\" class=\"data row0 col5\" >0.013500</td>\n",
       "    </tr>\n",
       "    <tr>\n",
       "      <th id=\"T_944a3_level0_row1\" class=\"row_heading level0 row1\" >1</th>\n",
       "      <td id=\"T_944a3_row1_col0\" class=\"data row1 col0\" >trace</td>\n",
       "      <td id=\"T_944a3_row1_col1\" class=\"data row1 col1\" >3.882500</td>\n",
       "      <td id=\"T_944a3_row1_col2\" class=\"data row1 col2\" >1.124586</td>\n",
       "      <td id=\"T_944a3_row1_col3\" class=\"data row1 col3\" >0.741000</td>\n",
       "      <td id=\"T_944a3_row1_col4\" class=\"data row1 col4\" >0.986500</td>\n",
       "      <td id=\"T_944a3_row1_col5\" class=\"data row1 col5\" >0.013500</td>\n",
       "    </tr>\n",
       "    <tr>\n",
       "      <th id=\"T_944a3_level0_row2\" class=\"row_heading level0 row2\" >2</th>\n",
       "      <td id=\"T_944a3_row2_col0\" class=\"data row2 col0\" >crate</td>\n",
       "      <td id=\"T_944a3_row2_col1\" class=\"data row2 col1\" >3.891000</td>\n",
       "      <td id=\"T_944a3_row2_col2\" class=\"data row2 col2\" >1.110009</td>\n",
       "      <td id=\"T_944a3_row2_col3\" class=\"data row2 col3\" >0.757000</td>\n",
       "      <td id=\"T_944a3_row2_col4\" class=\"data row2 col4\" >0.980500</td>\n",
       "      <td id=\"T_944a3_row2_col5\" class=\"data row2 col5\" >0.019500</td>\n",
       "    </tr>\n",
       "    <tr>\n",
       "      <th id=\"T_944a3_level0_row3\" class=\"row_heading level0 row3\" >3</th>\n",
       "      <td id=\"T_944a3_row3_col0\" class=\"data row3 col0\" >tread</td>\n",
       "      <td id=\"T_944a3_row3_col1\" class=\"data row3 col1\" >3.911000</td>\n",
       "      <td id=\"T_944a3_row3_col2\" class=\"data row3 col2\" >1.111791</td>\n",
       "      <td id=\"T_944a3_row3_col3\" class=\"data row3 col3\" >0.739500</td>\n",
       "      <td id=\"T_944a3_row3_col4\" class=\"data row3 col4\" >0.983000</td>\n",
       "      <td id=\"T_944a3_row3_col5\" class=\"data row3 col5\" >0.017000</td>\n",
       "    </tr>\n",
       "    <tr>\n",
       "      <th id=\"T_944a3_level0_row4\" class=\"row_heading level0 row4\" >4</th>\n",
       "      <td id=\"T_944a3_row4_col0\" class=\"data row4 col0\" >alert</td>\n",
       "      <td id=\"T_944a3_row4_col1\" class=\"data row4 col1\" >3.911500</td>\n",
       "      <td id=\"T_944a3_row4_col2\" class=\"data row4 col2\" >1.040994</td>\n",
       "      <td id=\"T_944a3_row4_col3\" class=\"data row4 col3\" >0.756000</td>\n",
       "      <td id=\"T_944a3_row4_col4\" class=\"data row4 col4\" >0.986500</td>\n",
       "      <td id=\"T_944a3_row4_col5\" class=\"data row4 col5\" >0.013500</td>\n",
       "    </tr>\n",
       "    <tr>\n",
       "      <th id=\"T_944a3_level0_row5\" class=\"row_heading level0 row5\" >2498</th>\n",
       "      <td id=\"T_944a3_row5_col0\" class=\"data row5 col0\" >jiffy</td>\n",
       "      <td id=\"T_944a3_row5_col1\" class=\"data row5 col1\" >4.665000</td>\n",
       "      <td id=\"T_944a3_row5_col2\" class=\"data row5 col2\" >1.136123</td>\n",
       "      <td id=\"T_944a3_row5_col3\" class=\"data row5 col3\" >0.466500</td>\n",
       "      <td id=\"T_944a3_row5_col4\" class=\"data row5 col4\" >0.947000</td>\n",
       "      <td id=\"T_944a3_row5_col5\" class=\"data row5 col5\" >0.053000</td>\n",
       "    </tr>\n",
       "    <tr>\n",
       "      <th id=\"T_944a3_level0_row6\" class=\"row_heading level0 row6\" >2499</th>\n",
       "      <td id=\"T_944a3_row6_col0\" class=\"data row6 col0\" >mommy</td>\n",
       "      <td id=\"T_944a3_row6_col1\" class=\"data row6 col1\" >4.666500</td>\n",
       "      <td id=\"T_944a3_row6_col2\" class=\"data row6 col2\" >1.139859</td>\n",
       "      <td id=\"T_944a3_row6_col3\" class=\"data row6 col3\" >0.463500</td>\n",
       "      <td id=\"T_944a3_row6_col4\" class=\"data row6 col4\" >0.940500</td>\n",
       "      <td id=\"T_944a3_row6_col5\" class=\"data row6 col5\" >0.059500</td>\n",
       "    </tr>\n",
       "    <tr>\n",
       "      <th id=\"T_944a3_level0_row7\" class=\"row_heading level0 row7\" >2500</th>\n",
       "      <td id=\"T_944a3_row7_col0\" class=\"data row7 col0\" >jazzy</td>\n",
       "      <td id=\"T_944a3_row7_col1\" class=\"data row7 col1\" >4.725000</td>\n",
       "      <td id=\"T_944a3_row7_col2\" class=\"data row7 col2\" >1.146026</td>\n",
       "      <td id=\"T_944a3_row7_col3\" class=\"data row7 col3\" >0.431000</td>\n",
       "      <td id=\"T_944a3_row7_col4\" class=\"data row7 col4\" >0.942500</td>\n",
       "      <td id=\"T_944a3_row7_col5\" class=\"data row7 col5\" >0.057500</td>\n",
       "    </tr>\n",
       "    <tr>\n",
       "      <th id=\"T_944a3_level0_row8\" class=\"row_heading level0 row8\" >2501</th>\n",
       "      <td id=\"T_944a3_row8_col0\" class=\"data row8 col0\" >queue</td>\n",
       "      <td id=\"T_944a3_row8_col1\" class=\"data row8 col1\" >4.750500</td>\n",
       "      <td id=\"T_944a3_row8_col2\" class=\"data row8 col2\" >1.194257</td>\n",
       "      <td id=\"T_944a3_row8_col3\" class=\"data row8 col3\" >0.428500</td>\n",
       "      <td id=\"T_944a3_row8_col4\" class=\"data row8 col4\" >0.929000</td>\n",
       "      <td id=\"T_944a3_row8_col5\" class=\"data row8 col5\" >0.071000</td>\n",
       "    </tr>\n",
       "    <tr>\n",
       "      <th id=\"T_944a3_level0_row9\" class=\"row_heading level0 row9\" >2502</th>\n",
       "      <td id=\"T_944a3_row9_col0\" class=\"data row9 col0\" >mamma</td>\n",
       "      <td id=\"T_944a3_row9_col1\" class=\"data row9 col1\" >4.816000</td>\n",
       "      <td id=\"T_944a3_row9_col2\" class=\"data row9 col2\" >1.163677</td>\n",
       "      <td id=\"T_944a3_row9_col3\" class=\"data row9 col3\" >0.406000</td>\n",
       "      <td id=\"T_944a3_row9_col4\" class=\"data row9 col4\" >0.930500</td>\n",
       "      <td id=\"T_944a3_row9_col5\" class=\"data row9 col5\" >0.069500</td>\n",
       "    </tr>\n",
       "  </tbody>\n",
       "</table>\n"
      ],
      "text/plain": [
       "<pandas.io.formats.style.Styler at 0x14515c3d0>"
      ]
     },
     "execution_count": 16,
     "metadata": {},
     "output_type": "execute_result"
    }
   ],
   "source": [
    "# Top 5 best and worst starter words\n",
    "summary_df.loc[list(range(0,5))+list(range(2498,2503))].style.background_gradient(subset=['avg attempt'])"
   ]
  },
  {
   "cell_type": "code",
   "execution_count": 17,
   "id": "a01375eb-799a-4605-ac0a-df71c5619269",
   "metadata": {},
   "outputs": [
    {
     "data": {
      "text/plain": [
       "<AxesSubplot:>"
      ]
     },
     "execution_count": 17,
     "metadata": {},
     "output_type": "execute_result"
    },
    {
     "data": {
      "image/png": "[encoded data removed]",
      "text/plain": [
       "<Figure size 432x288 with 1 Axes>"
      ]
     },
     "metadata": {},
     "output_type": "display_data"
    }
   ],
   "source": [
    "# Distribution of avg attempt\n",
    "summary_df['avg attempt'].hist()"
   ]
  },
  {
   "cell_type": "markdown",
   "id": "d3259de0-dd2c-460a-b3be-43623752ef5a",
   "metadata": {},
   "source": [
    "### Is it true that the more the vowels in the starter word, the better your chances?"
   ]
  },
  {
   "cell_type": "code",
   "execution_count": 18,
   "id": "b97ba785-8966-4837-b6d0-815be8701bc5",
   "metadata": {},
   "outputs": [],
   "source": [
    "# Count the number of unique vowels in each word\n",
    "def count_unique_vowels(word):\n",
    "    tmp_dict = {char: 0 for char in 'aeiou'}\n",
    "    for char in word:\n",
    "        if char in 'aeiou':\n",
    "            tmp_dict[char] = 1\n",
    "    return sum(tmp_dict.values())\n",
    "\n",
    "summary_df['unique_vowels'] = summary_df['starter word'].apply(count_unique_vowels)"
   ]
  },
  {
   "cell_type": "code",
   "execution_count": 19,
   "id": "65cf771a-67cb-4e96-90a1-842485fc3434",
   "metadata": {},
   "outputs": [
    {
     "data": {
      "text/html": [
       "<style type=\"text/css\">\n",
       "#T_f8f70_row0_col0 {\n",
       "  background-color: #023858;\n",
       "  color: #f1f1f1;\n",
       "}\n",
       "#T_f8f70_row1_col0 {\n",
       "  background-color: #2786bb;\n",
       "  color: #f1f1f1;\n",
       "}\n",
       "#T_f8f70_row2_col0 {\n",
       "  background-color: #fff7fb;\n",
       "  color: #000000;\n",
       "}\n",
       "#T_f8f70_row3_col0 {\n",
       "  background-color: #e5e1ef;\n",
       "  color: #000000;\n",
       "}\n",
       "#T_f8f70_row4_col0 {\n",
       "  background-color: #4c99c5;\n",
       "  color: #f1f1f1;\n",
       "}\n",
       "</style>\n",
       "<table id=\"T_f8f70_\">\n",
       "  <thead>\n",
       "    <tr>\n",
       "      <th class=\"blank level0\" >&nbsp;</th>\n",
       "      <th class=\"col_heading level0 col0\" >avg attempt</th>\n",
       "      <th class=\"col_heading level0 col1\" >std</th>\n",
       "      <th class=\"col_heading level0 col2\" >within four</th>\n",
       "      <th class=\"col_heading level0 col3\" >within six</th>\n",
       "      <th class=\"col_heading level0 col4\" >beyond six</th>\n",
       "    </tr>\n",
       "    <tr>\n",
       "      <th class=\"index_name level0\" >unique_vowels</th>\n",
       "      <th class=\"blank col0\" >&nbsp;</th>\n",
       "      <th class=\"blank col1\" >&nbsp;</th>\n",
       "      <th class=\"blank col2\" >&nbsp;</th>\n",
       "      <th class=\"blank col3\" >&nbsp;</th>\n",
       "      <th class=\"blank col4\" >&nbsp;</th>\n",
       "    </tr>\n",
       "  </thead>\n",
       "  <tbody>\n",
       "    <tr>\n",
       "      <th id=\"T_f8f70_level0_row0\" class=\"row_heading level0 row0\" >0</th>\n",
       "      <td id=\"T_f8f70_row0_col0\" class=\"data row0 col0\" >4.316750</td>\n",
       "      <td id=\"T_f8f70_row0_col1\" class=\"data row0 col1\" >1.068883</td>\n",
       "      <td id=\"T_f8f70_row0_col2\" class=\"data row0 col2\" >0.601550</td>\n",
       "      <td id=\"T_f8f70_row0_col3\" class=\"data row0 col3\" >0.973850</td>\n",
       "      <td id=\"T_f8f70_row0_col4\" class=\"data row0 col4\" >0.026150</td>\n",
       "    </tr>\n",
       "    <tr>\n",
       "      <th id=\"T_f8f70_level0_row1\" class=\"row_heading level0 row1\" >1</th>\n",
       "      <td id=\"T_f8f70_row1_col0\" class=\"data row1 col0\" >4.267306</td>\n",
       "      <td id=\"T_f8f70_row1_col1\" class=\"data row1 col1\" >1.093336</td>\n",
       "      <td id=\"T_f8f70_row1_col2\" class=\"data row1 col2\" >0.622297</td>\n",
       "      <td id=\"T_f8f70_row1_col3\" class=\"data row1 col3\" >0.971606</td>\n",
       "      <td id=\"T_f8f70_row1_col4\" class=\"data row1 col4\" >0.028394</td>\n",
       "    </tr>\n",
       "    <tr>\n",
       "      <th id=\"T_f8f70_level0_row2\" class=\"row_heading level0 row2\" >2</th>\n",
       "      <td id=\"T_f8f70_row2_col0\" class=\"data row2 col0\" >4.170181</td>\n",
       "      <td id=\"T_f8f70_row2_col1\" class=\"data row2 col1\" >1.109968</td>\n",
       "      <td id=\"T_f8f70_row2_col2\" class=\"data row2 col2\" >0.659820</td>\n",
       "      <td id=\"T_f8f70_row2_col3\" class=\"data row2 col3\" >0.972869</td>\n",
       "      <td id=\"T_f8f70_row2_col4\" class=\"data row2 col4\" >0.027131</td>\n",
       "    </tr>\n",
       "    <tr>\n",
       "      <th id=\"T_f8f70_level0_row3\" class=\"row_heading level0 row3\" >3</th>\n",
       "      <td id=\"T_f8f70_row3_col0\" class=\"data row3 col0\" >4.193372</td>\n",
       "      <td id=\"T_f8f70_row3_col1\" class=\"data row3 col1\" >1.140133</td>\n",
       "      <td id=\"T_f8f70_row3_col2\" class=\"data row3 col2\" >0.651786</td>\n",
       "      <td id=\"T_f8f70_row3_col3\" class=\"data row3 col3\" >0.968231</td>\n",
       "      <td id=\"T_f8f70_row3_col4\" class=\"data row3 col4\" >0.031769</td>\n",
       "    </tr>\n",
       "    <tr>\n",
       "      <th id=\"T_f8f70_level0_row4\" class=\"row_heading level0 row4\" >4</th>\n",
       "      <td id=\"T_f8f70_row4_col0\" class=\"data row4 col0\" >4.255250</td>\n",
       "      <td id=\"T_f8f70_row4_col1\" class=\"data row4 col1\" >1.196142</td>\n",
       "      <td id=\"T_f8f70_row4_col2\" class=\"data row4 col2\" >0.631500</td>\n",
       "      <td id=\"T_f8f70_row4_col3\" class=\"data row4 col3\" >0.959000</td>\n",
       "      <td id=\"T_f8f70_row4_col4\" class=\"data row4 col4\" >0.041000</td>\n",
       "    </tr>\n",
       "  </tbody>\n",
       "</table>\n"
      ],
      "text/plain": [
       "<pandas.io.formats.style.Styler at 0x1454ba9a0>"
      ]
     },
     "execution_count": 19,
     "metadata": {},
     "output_type": "execute_result"
    }
   ],
   "source": [
    "vowels = summary_df.groupby('unique_vowels').mean()\n",
    "vowels.style.background_gradient(subset=['avg attempt'])"
   ]
  },
  {
   "cell_type": "code",
   "execution_count": 20,
   "id": "d91c853c-af06-46a9-88d0-068e0f5efb37",
   "metadata": {},
   "outputs": [
    {
     "data": {
      "text/plain": [
       "<AxesSubplot:xlabel='unique_vowels', ylabel='avg attempt'>"
      ]
     },
     "execution_count": 20,
     "metadata": {},
     "output_type": "execute_result"
    },
    {
     "data": {
      "image/png": "[encoded data removed]",
      "text/plain": [
       "<Figure size 432x288 with 1 Axes>"
      ]
     },
     "metadata": {},
     "output_type": "display_data"
    }
   ],
   "source": [
    "sns.violinplot(data=summary_df, x='unique_vowels', y='avg attempt')"
   ]
  }
 ],
 "metadata": {
  "interpreter": {
   "hash": "df3282b00461d0da48b5084f73affef31b9a54f8b85365a0cd8e11fce37c74e1"
  },
  "kernelspec": {
   "display_name": "Python 3.9.7 64-bit ('base': conda)",
   "language": "python",
   "name": "python3"
  },
  "language_info": {
   "codemirror_mode": {
    "name": "ipython",
    "version": 3
   },
   "file_extension": ".py",
   "mimetype": "text/x-python",
   "name": "python",
   "nbconvert_exporter": "python",
   "pygments_lexer": "ipython3",
   "version": "3.9.7"
  }
 },
 "nbformat": 4,
 "nbformat_minor": 5
}
